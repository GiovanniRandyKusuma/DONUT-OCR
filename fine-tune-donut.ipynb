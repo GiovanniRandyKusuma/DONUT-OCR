{
 "cells": [
  {
   "cell_type": "code",
   "execution_count": 10,
   "metadata": {},
   "outputs": [
    {
     "name": "stdout",
     "output_type": "stream",
     "text": [
      "resume_from_checkpoint_path: None\n",
      "result_path: ./result\n",
      "pretrained_model_name_or_path: naver-clova-ix/donut-base\n",
      "dataset_name_or_paths: \n",
      "  - ./dataset/ktp_dataset\n",
      "sort_json_key: False\n",
      "train_batch_sizes: \n",
      "  - 8\n",
      "val_batch_sizes: \n",
      "  - 1\n",
      "input_size: \n",
      "  - 1280\n",
      "  - 960\n",
      "max_length: 768\n",
      "align_long_axis: False\n",
      "num_nodes: 1\n",
      "seed: 2022\n",
      "lr: 3e-05\n",
      "warmup_steps: 300\n",
      "num_training_samples_per_epoch: 800\n",
      "max_epochs: 20\n",
      "max_steps: -1\n",
      "num_workers: 1\n",
      "val_check_interval: 1.0\n",
      "check_val_every_n_epoch: 5\n",
      "gradient_clip_val: 1.0\n",
      "verbose: True\n",
      "exp_name: train_ktp\n",
      "exp_version: 20231228_141922\n",
      "Config is saved at result/train_ktp/20231228_141922/config.yaml\n",
      "/Users/randy/miniforge3/envs/donut-ocr-38/lib/python3.8/site-packages/pytorch_lightning/utilities/seed.py:48: LightningDeprecationWarning: `pytorch_lightning.utilities.seed.seed_everything` has been deprecated in v1.8.0 and will be removed in v1.10.0. Please use `lightning_lite.utilities.seed.seed_everything` instead.\n",
      "  rank_zero_deprecation(\n",
      "Global seed set to 2022\n",
      "/Users/randy/miniforge3/envs/donut-ocr-38/lib/python3.8/site-packages/torch/functional.py:504: UserWarning: torch.meshgrid: in an upcoming release, it will be required to pass the indexing argument. (Triggered internally at /Users/runner/work/pytorch/pytorch/pytorch/aten/src/ATen/native/TensorShape.cpp:3527.)\n",
      "  return _VF.meshgrid(tensors, **kwargs)  # type: ignore[attr-defined]\n",
      "Some weights of the model checkpoint at naver-clova-ix/donut-base were not used when initializing DonutModel: ['encoder.model.norm.bias', 'encoder.model.norm.weight']\n",
      "- This IS expected if you are initializing DonutModel from the checkpoint of a model trained on another task or with another architecture (e.g. initializing a BertForSequenceClassification model from a BertForPreTraining model).\n",
      "- This IS NOT expected if you are initializing DonutModel from the checkpoint of a model that you expect to be exactly identical (initializing a BertForSequenceClassification model from a BertForSequenceClassification model).\n",
      "Some weights of DonutModel were not initialized from the model checkpoint at naver-clova-ix/donut-base and are newly initialized because the shapes did not match:\n",
      "- encoder.model.layers.0.blocks.1.attn_mask: found shape torch.Size([3072, 100, 100]) in the checkpoint and torch.Size([768, 100, 100]) in the model instantiated\n",
      "- encoder.model.layers.1.blocks.1.attn_mask: found shape torch.Size([768, 100, 100]) in the checkpoint and torch.Size([192, 100, 100]) in the model instantiated\n",
      "- encoder.model.layers.2.blocks.1.attn_mask: found shape torch.Size([192, 100, 100]) in the checkpoint and torch.Size([48, 100, 100]) in the model instantiated\n",
      "- encoder.model.layers.2.blocks.3.attn_mask: found shape torch.Size([192, 100, 100]) in the checkpoint and torch.Size([48, 100, 100]) in the model instantiated\n",
      "- encoder.model.layers.2.blocks.5.attn_mask: found shape torch.Size([192, 100, 100]) in the checkpoint and torch.Size([48, 100, 100]) in the model instantiated\n",
      "- encoder.model.layers.2.blocks.7.attn_mask: found shape torch.Size([192, 100, 100]) in the checkpoint and torch.Size([48, 100, 100]) in the model instantiated\n",
      "- encoder.model.layers.2.blocks.9.attn_mask: found shape torch.Size([192, 100, 100]) in the checkpoint and torch.Size([48, 100, 100]) in the model instantiated\n",
      "- encoder.model.layers.2.blocks.11.attn_mask: found shape torch.Size([192, 100, 100]) in the checkpoint and torch.Size([48, 100, 100]) in the model instantiated\n",
      "- encoder.model.layers.2.blocks.13.attn_mask: found shape torch.Size([192, 100, 100]) in the checkpoint and torch.Size([48, 100, 100]) in the model instantiated\n",
      "- encoder.model.layers.3.blocks.1.attn_mask: found shape torch.Size([48, 100, 100]) in the checkpoint and torch.Size([12, 100, 100]) in the model instantiated\n",
      "You should probably TRAIN this model on a down-stream task to be able to use it for predictions and inference.\n",
      "Traceback (most recent call last):\n",
      "  File \"train.py\", line 177, in <module>\n",
      "    train(config)\n",
      "  File \"train.py\", line 143, in train\n",
      "    trainer = pl.Trainer(\n",
      "  File \"/Users/randy/miniforge3/envs/donut-ocr-38/lib/python3.8/site-packages/pytorch_lightning/utilities/argparse.py\", line 340, in insert_env_defaults\n",
      "    return fn(self, **kwargs)\n",
      "  File \"/Users/randy/miniforge3/envs/donut-ocr-38/lib/python3.8/site-packages/pytorch_lightning/trainer/trainer.py\", line 414, in __init__\n",
      "    self._accelerator_connector = AcceleratorConnector(\n",
      "  File \"/Users/randy/miniforge3/envs/donut-ocr-38/lib/python3.8/site-packages/pytorch_lightning/trainer/connectors/accelerator_connector.py\", line 208, in __init__\n",
      "    self._set_parallel_devices_and_init_accelerator()\n",
      "  File \"/Users/randy/miniforge3/envs/donut-ocr-38/lib/python3.8/site-packages/pytorch_lightning/trainer/connectors/accelerator_connector.py\", line 542, in _set_parallel_devices_and_init_accelerator\n",
      "    self._devices_flag = accelerator_cls.parse_devices(self._devices_flag)\n",
      "  File \"/Users/randy/miniforge3/envs/donut-ocr-38/lib/python3.8/site-packages/pytorch_lightning/accelerators/cpu.py\", line 47, in parse_devices\n",
      "    devices = _parse_cpu_cores(devices)\n",
      "  File \"/Users/randy/miniforge3/envs/donut-ocr-38/lib/python3.8/site-packages/lightning_lite/accelerators/cpu.py\", line 85, in _parse_cpu_cores\n",
      "    raise TypeError(\"`devices` selected with `CPUAccelerator` should be an int > 0.\")\n",
      "TypeError: `devices` selected with `CPUAccelerator` should be an int > 0.\n"
     ]
    }
   ],
   "source": [
    "!cd donut && python train.py --config config/train_ktp.yaml"
   ]
  },
  {
   "cell_type": "code",
   "execution_count": 6,
   "metadata": {},
   "outputs": [],
   "source": [
    "import torch\n",
    "# Check that MPS is available\n",
    "if not torch.backends.mps.is_available():\n",
    "    if not torch.backends.mps.is_built():\n",
    "        print(\"MPS not available because the current PyTorch install was not \"\n",
    "              \"built with MPS enabled.\")\n",
    "    else:\n",
    "        print(\"MPS not available because the current MacOS version is not 12.3+ \"\n",
    "              \"and/or you do not have an MPS-enabled device on this machine.\")\n",
    "\n",
    "else:\n",
    "    mps_device = torch.device(\"mps\")\n",
    "\n",
    "    # Create a Tensor directly on the mps device\n",
    "    x = torch.ones(5, device=mps_device)\n",
    "    # Or\n",
    "    x = torch.ones(5, device=\"mps\")\n",
    "\n",
    "    # Any operation happens on the GPU\n",
    "    y = x * 2\n"
   ]
  },
  {
   "cell_type": "markdown",
   "metadata": {},
   "source": []
  },
  {
   "cell_type": "code",
   "execution_count": null,
   "metadata": {},
   "outputs": [],
   "source": []
  }
 ],
 "metadata": {
  "kernelspec": {
   "display_name": "donut_ocr",
   "language": "python",
   "name": "python3"
  },
  "language_info": {
   "codemirror_mode": {
    "name": "ipython",
    "version": 3
   },
   "file_extension": ".py",
   "mimetype": "text/x-python",
   "name": "python",
   "nbconvert_exporter": "python",
   "pygments_lexer": "ipython3",
   "version": "3.8.18"
  }
 },
 "nbformat": 4,
 "nbformat_minor": 2
}
